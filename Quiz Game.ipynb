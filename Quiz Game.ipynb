{
 "cells": [
  {
   "cell_type": "code",
   "execution_count": 10,
   "id": "42653b0f",
   "metadata": {},
   "outputs": [
    {
     "name": "stdout",
     "output_type": "stream",
     "text": [
      "Welcome to the quiz\n",
      "Do you want to play?yes\n",
      "Okay! Lets play :)\n",
      "What does CPU stand for? CPU\n",
      "Incorrect\n",
      "What does GPU stand for? gpu\n",
      "Incorrect\n",
      "What does RAM stand for? random access memory\n",
      "Correct!\n",
      "What does PSU stand for? power supply unit\n",
      "Correct!\n",
      "You got 2 questions correct!\n",
      "You got 50.0%.\n"
     ]
    }
   ],
   "source": [
    "print(\"Welcome to the quiz\")\n",
    "playing=input(\"Do you want to play?\")\n",
    "if playing.lower()!= \"yes\":\n",
    "    quit()\n",
    "print(\"Okay! Lets play :)\")  \n",
    "score = 0\n",
    "answer=input(\"What does CPU stand for? \")\n",
    "if answer.lower() == \"central processing unit\":\n",
    "    print('Correct!')\n",
    "    score+=1\n",
    "else:\n",
    "    print(\"Incorrect\")\n",
    "answer=input(\"What does GPU stand for? \")\n",
    "if answer.lower() == \"graphics processing unit\":\n",
    "    print('Correct!')\n",
    "    score+=1\n",
    "else:\n",
    "    print(\"Incorrect\")  \n",
    "answer=input(\"What does RAM stand for? \")\n",
    "if answer.lower() == \"random access memory\":\n",
    "    print('Correct!')\n",
    "    score+=1\n",
    "else:\n",
    "    print(\"Incorrect\")\n",
    "answer=input(\"What does PSU stand for? \")\n",
    "if answer.lower() == \"power supply unit\":\n",
    "    print('Correct!')\n",
    "    score+=1\n",
    "else:\n",
    "    print(\"Incorrect\")\n",
    "    \n",
    "print(\"You got \" + str(score) + \" questions correct!\")  \n",
    "print(\"You got \" + str((score/4) *100) + \"%.\")"
   ]
  },
  {
   "cell_type": "code",
   "execution_count": null,
   "id": "da43a3e3",
   "metadata": {},
   "outputs": [],
   "source": []
  }
 ],
 "metadata": {
  "kernelspec": {
   "display_name": "Python 3 (ipykernel)",
   "language": "python",
   "name": "python3"
  },
  "language_info": {
   "codemirror_mode": {
    "name": "ipython",
    "version": 3
   },
   "file_extension": ".py",
   "mimetype": "text/x-python",
   "name": "python",
   "nbconvert_exporter": "python",
   "pygments_lexer": "ipython3",
   "version": "3.11.5"
  }
 },
 "nbformat": 4,
 "nbformat_minor": 5
}
